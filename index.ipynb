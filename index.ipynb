{
 "cells": [
  {
   "attachments": {},
   "cell_type": "markdown",
   "metadata": {},
   "source": [
    "# Xử lí dữ liệu Covid19 theo ngày sử dụng Spark, AWS EMR\n",
    "## Load dữ liệu ngày cần phân tích lên hệ thống Hadoop - AWS EMR\n",
    "1. Chọn ngày cần xử lí"
   ]
  },
  {
   "cell_type": "code",
   "execution_count": null,
   "metadata": {},
   "outputs": [],
   "source": [
    "from datetime import date\n",
    "\n",
    "day = date(2022,11,10)"
   ]
  },
  {
   "attachments": {},
   "cell_type": "markdown",
   "metadata": {},
   "source": [
    "2. Định nghĩa nguồn dữ liệu và nơi lưu trữ file phân tán (AWS S3)"
   ]
  },
  {
   "cell_type": "code",
   "execution_count": null,
   "metadata": {},
   "outputs": [],
   "source": [
    "S3_DATA_SOURCE_PATH = 'https://raw.githubusercontent.com/CSSEGISandData/COVID-19/master/csse_covid_19_data/csse_covid_19_daily_reports/'+ day.strftime('%m-%d-%Y')+'.csv'\n",
    "S3_DATA_OUTPUT_PATH = 's3://nhom5-cloud/covid19/' + day.strftime('%d-%m-%Y')"
   ]
  },
  {
   "attachments": {},
   "cell_type": "markdown",
   "metadata": {},
   "source": [
    "3. Định nghĩa cấu trúc của dữ liệu"
   ]
  },
  {
   "cell_type": "code",
   "execution_count": null,
   "metadata": {},
   "outputs": [],
   "source": [
    "from pyspark.sql.types import *\n",
    "schema = StructType([ \n",
    "    StructField(\"FIPS\", StringType(), True),\n",
    "    StructField(\"Admin2\", StringType(), True),\n",
    "    StructField(\"Province_State\", StringType(), True),\n",
    "    StructField(\"Country_Region\", StringType(), True),\n",
    "    StructField(\"Last_Update\", StringType(), True),\n",
    "    StructField(\"Lat\", StringType(), True),\n",
    "    StructField(\"Long_\", StringType(), True),\n",
    "    StructField(\"Confirmed\", StringType(), True),\n",
    "    StructField(\"Deaths\", StringType(), True),\n",
    "    StructField(\"Recovered\", StringType(), True),\n",
    "    StructField(\"Active\", StringType(), True),\n",
    "    StructField(\"Combined_Key\", StringType(), True),\n",
    "    StructField(\"Incident_Rate\", StringType(), True),\n",
    "    StructField(\"Case_Fatality_Ratio\", StringType(), True),\n",
    " ])"
   ]
  },
  {
   "attachments": {},
   "cell_type": "markdown",
   "metadata": {},
   "source": [
    "4. Tạo phiên viết dữ liệu"
   ]
  },
  {
   "cell_type": "code",
   "execution_count": null,
   "metadata": {},
   "outputs": [],
   "source": [
    "from pyspark.sql import SparkSession\n",
    "\n",
    "spark_write = SparkSession.builder.appName('Nhom5-Cloud-Write').getOrCreate()"
   ]
  },
  {
   "attachments": {},
   "cell_type": "markdown",
   "metadata": {},
   "source": [
    "5. Đọc dữ liệu và định nghĩa dữ liệu theo cấu trúc"
   ]
  },
  {
   "cell_type": "code",
   "execution_count": null,
   "metadata": {},
   "outputs": [],
   "source": [
    "import pandas as pd\n",
    "\n",
    "df = pd.read_csv(S3_DATA_SOURCE_PATH).fillna('')\n",
    "all_data = spark_write.createDataFrame(df,schema=schema)"
   ]
  },
  {
   "attachments": {},
   "cell_type": "markdown",
   "metadata": {},
   "source": [
    "6. Lưu dữ liệu dưới dạng file phân tán lên S3"
   ]
  },
  {
   "cell_type": "code",
   "execution_count": null,
   "metadata": {},
   "outputs": [],
   "source": [
    "# ghi dữ liệu nếu chưa tồn tại\n",
    "all_data.write.mode('ignore').parquet(S3_DATA_OUTPUT_PATH)"
   ]
  },
  {
   "attachments": {},
   "cell_type": "markdown",
   "metadata": {},
   "source": [
    "## Lấy dữ liệu theo ngày và xử lí\n",
    "1. Tạo phiên đọc dữ liệu và đọc dữ liệu từ file phân tán"
   ]
  },
  {
   "cell_type": "code",
   "execution_count": null,
   "metadata": {},
   "outputs": [],
   "source": [
    "spark_read = SparkSession.builder.appName('Nhom5-Cloud-Read').getOrCreate()\n",
    "df_read = spark_read.read.parquet(S3_DATA_OUTPUT_PATH)"
   ]
  },
  {
   "attachments": {},
   "cell_type": "markdown",
   "metadata": {},
   "source": [
    "2. In ra một số dữ liệu đọc được, số dòng, số cột của tập dữ liệu "
   ]
  },
  {
   "cell_type": "code",
   "execution_count": null,
   "metadata": {},
   "outputs": [],
   "source": [
    "df_read.show(truncate=False)\n",
    "\n",
    "rows = df_read.count()\n",
    "print(f\"Data from {day} have {rows} rows.\")\n",
    "\n",
    "cols = len(df_read.columns)\n",
    "print(f\"Data from {day} have {cols} columns.\")"
   ]
  },
  {
   "attachments": {},
   "cell_type": "markdown",
   "metadata": {},
   "source": [
    "3. Xử lí dữ liệu\n",
    "* Top 10 đất nước có số lượng mắc covid nhiều nhất"
   ]
  },
  {
   "cell_type": "code",
   "execution_count": null,
   "metadata": {},
   "outputs": [],
   "source": [
    "from pyspark.sql import functions as func\n",
    "\n",
    "# Chuyển kiểu dữ liệu của cột 'Confirmed' kiểu String sang Int\n",
    "df_read.withColumn('Confirmed', df_read['Confirmed'].cast(IntegerType()))\n",
    "# Chuyển các dòng dữ liệu bị null thành 0\n",
    "df_read.fillna(value=0,subset=['Confirmed'])\n",
    "# Tính tổng dữ liệu cột 'Confirmed' theo 'Country_Region'\n",
    "df_read.select('Country_Region','Confirmed').groupBy('Country_Region').agg(func.sum('Confirmed')).sort(df_read['Confirmed'].desc()).show(10)"
   ]
  },
  {
   "attachments": {},
   "cell_type": "markdown",
   "metadata": {},
   "source": [
    "* Top 10 đất nước có số lượng tử vong vì covid nhiều nhất"
   ]
  },
  {
   "cell_type": "code",
   "execution_count": null,
   "metadata": {},
   "outputs": [],
   "source": [
    "# Chuyển kiểu dữ liệu của cột 'Deaths' kiểu String sang Int\n",
    "df_read.withColumn('Deaths', df_read['Deaths'].cast(IntegerType()))\n",
    "# Chuyển các dòng dữ liệu bị null thành 0\n",
    "df_read.fillna(value=0,subset=['Deaths'])\n",
    "# Tính tổng dữ liệu cột 'Deaths' theo 'Country_Region'\n",
    "df_read.select('Country_Region','Deaths').groupBy('Country_Region').agg(func.sum('Deaths')).sort(df_read['Deaths'].desc()).show(10)"
   ]
  },
  {
   "attachments": {},
   "cell_type": "markdown",
   "metadata": {},
   "source": [
    "* Top 10 đất nước có số lượng hồi phục sau mắc covid nhiều nhất"
   ]
  },
  {
   "cell_type": "code",
   "execution_count": null,
   "metadata": {},
   "outputs": [],
   "source": [
    "# Chuyển kiểu dữ liệu của cột 'Recovered' kiểu String sang Int\n",
    "df_read.withColumn('Recovered', df_read['Recovered'].cast(IntegerType()))\n",
    "# Chuyển các dòng dữ liệu bị null thành 0\n",
    "df_read.fillna(value=0,subset=['Recovered'])\n",
    "# Tính tổng dữ liệu cột 'Recovered' theo 'Country_Region'\n",
    "df_read.select('Country_Region','Recovered').groupBy('Country_Region').agg(func.sum('Recovered')).sort(df_read['Recovered'].desc()).show(10)"
   ]
  }
 ],
 "metadata": {
  "kernelspec": {
   "display_name": "Python 3",
   "language": "python",
   "name": "python3"
  },
  "language_info": {
   "name": "python",
   "version": "3.10.5 (tags/v3.10.5:f377153, Jun  6 2022, 16:14:13) [MSC v.1929 64 bit (AMD64)]"
  },
  "orig_nbformat": 4,
  "vscode": {
   "interpreter": {
    "hash": "26de051ba29f2982a8de78e945f0abaf191376122a1563185a90213a26c5da77"
   }
  }
 },
 "nbformat": 4,
 "nbformat_minor": 2
}
