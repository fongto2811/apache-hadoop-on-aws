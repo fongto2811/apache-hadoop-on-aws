{
 "cells": [
  {
   "cell_type": "markdown",
   "metadata": {},
   "source": [
    "# Xử lí dữ liệu Covid19 theo ngày sử dụng Spark, AWS EMR\n",
    "## Load dữ liệu ngày cần phân tích lên hệ thống Hadoop - AWS EMR\n",
    "1. Chọn ngày cần xử lí"
   ]
  },
  {
   "cell_type": "code",
   "execution_count": 1,
   "metadata": {},
   "outputs": [
    {
     "name": "stdout",
     "output_type": "stream",
     "text": [
      "Starting Spark application\n"
     ]
    },
    {
     "data": {
      "text/html": [
       "<table>\n",
       "<tr><th>ID</th><th>YARN Application ID</th><th>Kind</th><th>State</th><th>Spark UI</th><th>Driver log</th><th>User</th><th>Current session?</th></tr><tr><td>4</td><td>application_1671214930074_0005</td><td>pyspark</td><td>idle</td><td><a target=\"_blank\" href=\"http://ip-172-31-94-65.ec2.internal:20888/proxy/application_1671214930074_0005/\">Link</a></td><td><a target=\"_blank\" href=\"http://ip-172-31-82-255.ec2.internal:8042/node/containerlogs/container_1671214930074_0005_01_000001/livy\">Link</a></td><td>None</td><td>✔</td></tr></table>"
      ],
      "text/plain": [
       "<IPython.core.display.HTML object>"
      ]
     },
     "metadata": {},
     "output_type": "display_data"
    },
    {
     "data": {
      "application/vnd.jupyter.widget-view+json": {
       "model_id": "",
       "version_major": 2,
       "version_minor": 0
      },
      "text/plain": [
       "FloatProgress(value=0.0, bar_style='info', description='Progress:', layout=Layout(height='25px', width='50%'),…"
      ]
     },
     "metadata": {},
     "output_type": "display_data"
    },
    {
     "name": "stdout",
     "output_type": "stream",
     "text": [
      "SparkSession available as 'spark'.\n"
     ]
    },
    {
     "data": {
      "application/vnd.jupyter.widget-view+json": {
       "model_id": "",
       "version_major": 2,
       "version_minor": 0
      },
      "text/plain": [
       "FloatProgress(value=0.0, bar_style='info', description='Progress:', layout=Layout(height='25px', width='50%'),…"
      ]
     },
     "metadata": {},
     "output_type": "display_data"
    }
   ],
   "source": [
    "from datetime import date\n",
    "\n",
    "day = date(2022,11,10)"
   ]
  },
  {
   "cell_type": "markdown",
   "metadata": {},
   "source": [
    "2. Định nghĩa nguồn dữ liệu và nơi lưu trữ file phân tán (AWS S3)"
   ]
  },
  {
   "cell_type": "code",
   "execution_count": 2,
   "metadata": {},
   "outputs": [
    {
     "data": {
      "application/vnd.jupyter.widget-view+json": {
       "model_id": "",
       "version_major": 2,
       "version_minor": 0
      },
      "text/plain": [
       "FloatProgress(value=0.0, bar_style='info', description='Progress:', layout=Layout(height='25px', width='50%'),…"
      ]
     },
     "metadata": {},
     "output_type": "display_data"
    }
   ],
   "source": [
    "S3_DATA_SOURCE_PATH = 'https://raw.githubusercontent.com/CSSEGISandData/COVID-19/master/csse_covid_19_data/csse_covid_19_daily_reports/'+ day.strftime('%m-%d-%Y')+'.csv'\n",
    "S3_DATA_OUTPUT_PATH = 's3://nhom5-cloud/covid19/' + day.strftime('%d-%m-%Y')"
   ]
  },
  {
   "cell_type": "markdown",
   "metadata": {},
   "source": [
    "3. Định nghĩa cấu trúc của dữ liệu"
   ]
  },
  {
   "cell_type": "code",
   "execution_count": 3,
   "metadata": {},
   "outputs": [
    {
     "data": {
      "application/vnd.jupyter.widget-view+json": {
       "model_id": "",
       "version_major": 2,
       "version_minor": 0
      },
      "text/plain": [
       "FloatProgress(value=0.0, bar_style='info', description='Progress:', layout=Layout(height='25px', width='50%'),…"
      ]
     },
     "metadata": {},
     "output_type": "display_data"
    }
   ],
   "source": [
    "from pyspark.sql.types import *\n",
    "schema = StructType([ \n",
    "    StructField(\"FIPS\", StringType(), True),\n",
    "    StructField(\"Admin2\", StringType(), True),\n",
    "    StructField(\"Province_State\", StringType(), True),\n",
    "    StructField(\"Country_Region\", StringType(), True),\n",
    "    StructField(\"Last_Update\", StringType(), True),\n",
    "    StructField(\"Lat\", StringType(), True),\n",
    "    StructField(\"Long_\", StringType(), True),\n",
    "    StructField(\"Confirmed\", StringType(), True),\n",
    "    StructField(\"Deaths\", StringType(), True),\n",
    "    StructField(\"Recovered\", StringType(), True),\n",
    "    StructField(\"Active\", StringType(), True),\n",
    "    StructField(\"Combined_Key\", StringType(), True),\n",
    "    StructField(\"Incident_Rate\", StringType(), True),\n",
    "    StructField(\"Case_Fatality_Ratio\", StringType(), True),\n",
    " ])"
   ]
  },
  {
   "cell_type": "markdown",
   "metadata": {},
   "source": [
    "4. Tạo phiên viết dữ liệu"
   ]
  },
  {
   "cell_type": "code",
   "execution_count": 4,
   "metadata": {},
   "outputs": [
    {
     "data": {
      "application/vnd.jupyter.widget-view+json": {
       "model_id": "",
       "version_major": 2,
       "version_minor": 0
      },
      "text/plain": [
       "FloatProgress(value=0.0, bar_style='info', description='Progress:', layout=Layout(height='25px', width='50%'),…"
      ]
     },
     "metadata": {},
     "output_type": "display_data"
    }
   ],
   "source": [
    "from pyspark.sql import SparkSession\n",
    "\n",
    "spark_write = SparkSession.builder.appName('Nhom5-Cloud-Write').getOrCreate()"
   ]
  },
  {
   "cell_type": "markdown",
   "metadata": {},
   "source": [
    "5. Đọc dữ liệu và định nghĩa dữ liệu theo cấu trúc"
   ]
  },
  {
   "cell_type": "code",
   "execution_count": 5,
   "metadata": {},
   "outputs": [
    {
     "data": {
      "application/vnd.jupyter.widget-view+json": {
       "model_id": "",
       "version_major": 2,
       "version_minor": 0
      },
      "text/plain": [
       "FloatProgress(value=0.0, bar_style='info', description='Progress:', layout=Layout(height='25px', width='50%'),…"
      ]
     },
     "metadata": {},
     "output_type": "display_data"
    }
   ],
   "source": [
    "import pandas as pd\n",
    "\n",
    "df = pd.read_csv(S3_DATA_SOURCE_PATH).fillna('')\n",
    "all_data = spark_write.createDataFrame(df,schema=schema)"
   ]
  },
  {
   "cell_type": "markdown",
   "metadata": {},
   "source": [
    "6. Lưu dữ liệu dưới dạng file phân tán lên S3"
   ]
  },
  {
   "cell_type": "code",
   "execution_count": 6,
   "metadata": {},
   "outputs": [
    {
     "data": {
      "application/vnd.jupyter.widget-view+json": {
       "model_id": "",
       "version_major": 2,
       "version_minor": 0
      },
      "text/plain": [
       "FloatProgress(value=0.0, bar_style='info', description='Progress:', layout=Layout(height='25px', width='50%'),…"
      ]
     },
     "metadata": {},
     "output_type": "display_data"
    }
   ],
   "source": [
    "# ghi dữ liệu nếu chưa tồn tại\n",
    "all_data.write.mode('ignore').parquet(S3_DATA_OUTPUT_PATH)"
   ]
  },
  {
   "cell_type": "markdown",
   "metadata": {},
   "source": [
    "## Lấy dữ liệu theo ngày và xử lí\n",
    "1. Tạo phiên đọc dữ liệu và đọc dữ liệu từ file phân tán"
   ]
  },
  {
   "cell_type": "code",
   "execution_count": 7,
   "metadata": {},
   "outputs": [
    {
     "data": {
      "application/vnd.jupyter.widget-view+json": {
       "model_id": "",
       "version_major": 2,
       "version_minor": 0
      },
      "text/plain": [
       "FloatProgress(value=0.0, bar_style='info', description='Progress:', layout=Layout(height='25px', width='50%'),…"
      ]
     },
     "metadata": {},
     "output_type": "display_data"
    }
   ],
   "source": [
    "spark_read = SparkSession.builder.appName('Nhom5-Cloud-Read').getOrCreate()\n",
    "df_read = spark_read.read.parquet(S3_DATA_OUTPUT_PATH)"
   ]
  },
  {
   "cell_type": "markdown",
   "metadata": {},
   "source": [
    "2. In ra một số dữ liệu đọc được, số dòng, số cột của tập dữ liệu "
   ]
  },
  {
   "cell_type": "code",
   "execution_count": 8,
   "metadata": {},
   "outputs": [
    {
     "data": {
      "application/vnd.jupyter.widget-view+json": {
       "model_id": "",
       "version_major": 2,
       "version_minor": 0
      },
      "text/plain": [
       "FloatProgress(value=0.0, bar_style='info', description='Progress:', layout=Layout(height='25px', width='50%'),…"
      ]
     },
     "metadata": {},
     "output_type": "display_data"
    },
    {
     "name": "stdout",
     "output_type": "stream",
     "text": [
      "+-------+---------+--------------+--------------+-------------------+-----------+------------+---------+------+---------+------+--------------------+------------------+-------------------+\n",
      "|FIPS   |Admin2   |Province_State|Country_Region|Last_Update        |Lat        |Long_       |Confirmed|Deaths|Recovered|Active|Combined_Key        |Incident_Rate     |Case_Fatality_Ratio|\n",
      "+-------+---------+--------------+--------------+-------------------+-----------+------------+---------+------+---------+------+--------------------+------------------+-------------------+\n",
      "|48001.0|Anderson |Texas         |US            |2022-11-11 04:21:22|31.81534745|-95.65354823|10628    |251   |         |      |Anderson, Texas, US |18408.24456568806 |2.361686112156568  |\n",
      "|48003.0|Andrews  |Texas         |US            |2022-11-11 04:21:22|32.30468633|-102.6376548|4723     |73    |         |      |Andrews, Texas, US  |25249.93317294841 |1.545627778954055  |\n",
      "|48005.0|Angelina |Texas         |US            |2022-11-11 04:21:22|31.25457347|-94.60901487|16633    |496   |         |      |Angelina, Texas, US |19181.22585481174 |2.982023687849456  |\n",
      "|48007.0|Aransas  |Texas         |US            |2022-11-11 04:21:22|28.10556197|-96.9995047 |5254     |94    |         |      |Aransas, Texas, US  |22347.93704806465 |1.7891130567186906 |\n",
      "|48009.0|Archer   |Texas         |US            |2022-11-11 04:21:22|33.61569967|-98.68754589|2530     |29    |         |      |Archer, Texas, US   |29580.264234771425|1.1462450592885376 |\n",
      "|48011.0|Armstrong|Texas         |US            |2022-11-11 04:21:22|34.96507426|-101.3574874|638      |10    |         |      |Armstrong, Texas, US|33810.2808691044  |1.567398119122257  |\n",
      "|48013.0|Atascosa |Texas         |US            |2022-11-11 04:21:22|28.89333001|-98.52730485|15266    |238   |         |      |Atascosa, Texas, US |29843.80192755068 |1.55902004454343   |\n",
      "|48015.0|Austin   |Texas         |US            |2022-11-11 04:21:22|29.88548725|-96.27736949|6705     |82    |         |      |Austin, Texas, US   |22326.185402237614|1.2229679343773303 |\n",
      "|48017.0|Bailey   |Texas         |US            |2022-11-11 04:21:22|34.06854817|-102.8299707|1689     |39    |         |      |Bailey, Texas, US   |24128.571428571428|2.3090586145648317 |\n",
      "|48019.0|Bandera  |Texas         |US            |2022-11-11 04:21:22|29.74619598|-99.24598147|4125     |80    |         |      |Bandera, Texas, US  |17847.871235721705|1.9393939393939397 |\n",
      "|48021.0|Bastrop  |Texas         |US            |2022-11-11 04:21:22|30.10370699|-97.31206354|25951    |247   |         |      |Bastrop, Texas, US  |29249.461808099364|0.9517937651728255 |\n",
      "|48023.0|Baylor   |Texas         |US            |2022-11-11 04:21:22|33.61640794|-99.21352901|908      |33    |         |      |Baylor, Texas, US   |25876.318039327445|3.634361233480176  |\n",
      "|48025.0|Bee      |Texas         |US            |2022-11-11 04:21:22|28.41761668|-97.74215593|9598     |155   |         |      |Bee, Texas, US      |29473.36097036696 |1.6149197749531152 |\n",
      "|48027.0|Bell     |Texas         |US            |2022-11-11 04:21:22|31.03736027|-97.4785025 |80796    |930   |         |      |Bell, Texas, US     |22262.51226152032 |1.15104708153869   |\n",
      "|48029.0|Bexar    |Texas         |US            |2022-11-11 04:21:22|29.44928723|-98.52019748|665734   |6363  |         |      |Bexar, Texas, US    |33227.65445802808 |0.9557871462175584 |\n",
      "|48031.0|Blanco   |Texas         |US            |2022-11-11 04:21:22|30.26640707|-98.3999852 |3034     |35    |         |      |Blanco, Texas, US   |25429.55326460481 |1.1535926170072512 |\n",
      "|48033.0|Borden   |Texas         |US            |2022-11-11 04:21:22|32.74363984|-101.4316509|116      |2     |         |      |Borden, Texas, US   |17737.003058103975|1.7241379310344829 |\n",
      "|48035.0|Bosque   |Texas         |US            |2022-11-11 04:21:22|31.89978581|-97.63613524|4707     |74    |         |      |Bosque, Texas, US   |25191.32994380519 |1.5721266199277673 |\n",
      "|48037.0|Bowie    |Texas         |US            |2022-11-11 04:21:22|33.44626922|-94.41834132|23472    |448   |         |      |Bowie, Texas, US    |25172.3953026972  |1.9086571233810496 |\n",
      "|48039.0|Brazoria |Texas         |US            |2022-11-11 04:21:22|29.18757369|-95.44563172|112535   |1020  |         |      |Brazoria, Texas, US |30068.3474766475  |0.9063846803216776 |\n",
      "+-------+---------+--------------+--------------+-------------------+-----------+------------+---------+------+---------+------+--------------------+------------------+-------------------+\n",
      "only showing top 20 rows\n",
      "\n",
      "Data from 2022-11-10 have 4016 rows.\n",
      "Data from 2022-11-10 have 14 columns.\n",
      "DataFrame[FIPS: string, Admin2: string, Province_State: string, Country_Region: string, Last_Update: string, Lat: string, Long_: string, Confirmed: string, Deaths: string, Recovered: string, Active: string, Combined_Key: string, Incident_Rate: string, Case_Fatality_Ratio: string]"
     ]
    }
   ],
   "source": [
    "df_read.show(truncate=False)\n",
    "\n",
    "rows = df_read.count()\n",
    "print(f\"Data from {day} have {rows} rows.\")\n",
    "\n",
    "cols = len(df_read.columns)\n",
    "print(f\"Data from {day} have {cols} columns.\")\n",
    "\n",
    "print(df_read)"
   ]
  },
  {
   "cell_type": "markdown",
   "metadata": {},
   "source": [
    "3. Xử lí dữ liệu\n",
    "* Top 10 đất nước có số lượng mắc covid nhiều nhất"
   ]
  },
  {
   "cell_type": "code",
   "execution_count": 9,
   "metadata": {},
   "outputs": [
    {
     "data": {
      "application/vnd.jupyter.widget-view+json": {
       "model_id": "",
       "version_major": 2,
       "version_minor": 0
      },
      "text/plain": [
       "FloatProgress(value=0.0, bar_style='info', description='Progress:', layout=Layout(height='25px', width='50%'),…"
      ]
     },
     "metadata": {},
     "output_type": "display_data"
    },
    {
     "name": "stdout",
     "output_type": "stream",
     "text": [
      "+--------------+--------+\n",
      "|Country_Region|   Total|\n",
      "+--------------+--------+\n",
      "|            US|97985646|\n",
      "|         India|44664810|\n",
      "|        France|37288432|\n",
      "|       Germany|36005025|\n",
      "|        Brazil|34889576|\n",
      "|  Korea, South|26091539|\n",
      "|United Kingdom|24179611|\n",
      "|         Italy|23642011|\n",
      "|         Japan|22981382|\n",
      "|        Russia|21178202|\n",
      "+--------------+--------+\n",
      "only showing top 10 rows"
     ]
    }
   ],
   "source": [
    "from pyspark.sql import functions as func\n",
    "\n",
    "# Chuyển kiểu dữ liệu của cột 'Confirmed' kiểu String sang Int\n",
    "converDF = df_read.withColumn('Confirmed', df_read['Confirmed'].cast(IntegerType()))\n",
    "# Chuyển các dòng dữ liệu bị null thành 0\n",
    "formatDF = converDF.fillna(value=0,subset=['Confirmed'])\n",
    "# Tính tổng dữ liệu cột 'Confirmed' theo 'Country_Region'\n",
    "ConfirmedDF = formatDF.select('Country_Region','Confirmed').groupBy('Country_Region').agg(func.sum('Confirmed').alias('Total'))\n",
    "ConfirmedDF.sort(ConfirmedDF['Total'].desc()).show(10)"
   ]
  },
  {
   "cell_type": "markdown",
   "metadata": {},
   "source": [
    "* Top 10 đất nước có số lượng tử vong vì covid nhiều nhất"
   ]
  },
  {
   "cell_type": "code",
   "execution_count": 10,
   "metadata": {},
   "outputs": [
    {
     "data": {
      "application/vnd.jupyter.widget-view+json": {
       "model_id": "",
       "version_major": 2,
       "version_minor": 0
      },
      "text/plain": [
       "FloatProgress(value=0.0, bar_style='info', description='Progress:', layout=Layout(height='25px', width='50%'),…"
      ]
     },
     "metadata": {},
     "output_type": "display_data"
    },
    {
     "name": "stdout",
     "output_type": "stream",
     "text": [
      "+--------------+-------+\n",
      "|Country_Region|  Total|\n",
      "+--------------+-------+\n",
      "|            US|1074743|\n",
      "|        Brazil| 688607|\n",
      "|         India| 530520|\n",
      "|        Russia| 382949|\n",
      "|        Mexico| 330430|\n",
      "|          Peru| 217146|\n",
      "|United Kingdom| 212810|\n",
      "|         Italy| 179436|\n",
      "|     Indonesia| 158989|\n",
      "|        France| 158711|\n",
      "+--------------+-------+\n",
      "only showing top 10 rows"
     ]
    }
   ],
   "source": [
    "# Chuyển kiểu dữ liệu của cột 'Deaths' kiểu String sang Int\n",
    "converDF = df_read.withColumn('Deaths', df_read['Deaths'].cast(IntegerType()))\n",
    "# Chuyển các dòng dữ liệu bị null thành 0\n",
    "formatDF = converDF.fillna(value=0,subset=['Deaths'])\n",
    "# Tính tổng dữ liệu cột 'Deaths' theo 'Country_Region'\n",
    "DeathsDF = formatDF.select('Country_Region','Deaths').groupBy('Country_Region').agg(func.sum('Deaths').alias('Total'))\n",
    "DeathsDF.sort(DeathsDF['Total'].desc()).show(10)"
   ]
  },
  {
   "cell_type": "markdown",
   "metadata": {},
   "source": [
    "* Top 10 đất nước có số lượng hồi phục sau mắc covid nhiều nhất"
   ]
  },
  {
   "cell_type": "code",
   "execution_count": 11,
   "metadata": {},
   "outputs": [
    {
     "data": {
      "application/vnd.jupyter.widget-view+json": {
       "model_id": "",
       "version_major": 2,
       "version_minor": 0
      },
      "text/plain": [
       "FloatProgress(value=0.0, bar_style='info', description='Progress:', layout=Layout(height='25px', width='50%'),…"
      ]
     },
     "metadata": {},
     "output_type": "display_data"
    },
    {
     "name": "stdout",
     "output_type": "stream",
     "text": [
      "+---------------+-----+\n",
      "| Country_Region|Total|\n",
      "+---------------+-----+\n",
      "|North Macedonia|    0|\n",
      "|   Korea, South|    0|\n",
      "|        Lebanon|    0|\n",
      "|       Slovenia|    0|\n",
      "|    New Zealand|    0|\n",
      "|         Poland|    0|\n",
      "|       Portugal|    0|\n",
      "|      Mauritius|    0|\n",
      "|          China|    0|\n",
      "|        Somalia|    0|\n",
      "+---------------+-----+\n",
      "only showing top 10 rows"
     ]
    }
   ],
   "source": [
    "# Chuyển kiểu dữ liệu của cột 'Recovered' kiểu String sang Int\n",
    "converDF = df_read.withColumn('Recovered', df_read['Recovered'].cast(IntegerType()))\n",
    "# Chuyển các dòng dữ liệu bị null thành 0\n",
    "formatDF = converDF.fillna(value=0,subset=['Recovered'])\n",
    "# Tính tổng dữ liệu cột 'Recovered' theo 'Country_Region'\n",
    "RecoveredDF = formatDF.select('Country_Region','Recovered').groupBy('Country_Region').agg(func.sum('Recovered').alias('Total'))\n",
    "RecoveredDF.sort(RecoveredDF['Total'].desc()).show(10)"
   ]
  }
 ],
 "metadata": {
  "kernelspec": {
   "display_name": "Python 3",
   "language": "python",
   "name": "python3"
  },
  "language_info": {
   "codemirror_mode": {
    "name": "python",
    "version": 3
   },
   "file_extension": ".py",
   "mimetype": "text/x-python",
   "name": "python",
   "pygments_lexer": "python3",
   "version": "3.10.5 (tags/v3.10.5:f377153, Jun  6 2022, 16:14:13) [MSC v.1929 64 bit (AMD64)]"
  },
  "vscode": {
   "interpreter": {
    "hash": "26de051ba29f2982a8de78e945f0abaf191376122a1563185a90213a26c5da77"
   }
  }
 },
 "nbformat": 4,
 "nbformat_minor": 2
}
